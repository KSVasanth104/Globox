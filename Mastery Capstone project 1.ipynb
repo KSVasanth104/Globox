{
 "cells": [
  {
   "cell_type": "markdown",
   "id": "14e9b534",
   "metadata": {},
   "source": [
    "## GloBox - Converstion Rate A/B testing "
   ]
  },
  {
   "cell_type": "code",
   "execution_count": 1,
   "id": "183c97c8",
   "metadata": {},
   "outputs": [],
   "source": [
    "import numpy as np\n",
    "import pandas as pd\n",
    "import matplotlib.pyplot as plt\n",
    "from scipy.stats import norm\n",
    "import math\n",
    "\n",
    "%matplotlib inline"
   ]
  },
  {
   "cell_type": "code",
   "execution_count": 2,
   "id": "ac8ba786",
   "metadata": {},
   "outputs": [],
   "source": [
    "# importing queried summery data from database\n",
    "\n",
    "data = pd.read_csv('export (1).csv')"
   ]
  },
  {
   "cell_type": "code",
   "execution_count": 3,
   "id": "d0812d61",
   "metadata": {},
   "outputs": [
    {
     "data": {
      "text/html": [
       "<div>\n",
       "<style scoped>\n",
       "    .dataframe tbody tr th:only-of-type {\n",
       "        vertical-align: middle;\n",
       "    }\n",
       "\n",
       "    .dataframe tbody tr th {\n",
       "        vertical-align: top;\n",
       "    }\n",
       "\n",
       "    .dataframe thead th {\n",
       "        text-align: right;\n",
       "    }\n",
       "</style>\n",
       "<table border=\"1\" class=\"dataframe\">\n",
       "  <thead>\n",
       "    <tr style=\"text-align: right;\">\n",
       "      <th></th>\n",
       "      <th>group</th>\n",
       "      <th>total_view</th>\n",
       "      <th>purchased</th>\n",
       "      <th>conv_rate</th>\n",
       "    </tr>\n",
       "  </thead>\n",
       "  <tbody>\n",
       "    <tr>\n",
       "      <th>0</th>\n",
       "      <td>A</td>\n",
       "      <td>24343</td>\n",
       "      <td>955</td>\n",
       "      <td>3.923099</td>\n",
       "    </tr>\n",
       "    <tr>\n",
       "      <th>1</th>\n",
       "      <td>B</td>\n",
       "      <td>24600</td>\n",
       "      <td>1139</td>\n",
       "      <td>4.630081</td>\n",
       "    </tr>\n",
       "  </tbody>\n",
       "</table>\n",
       "</div>"
      ],
      "text/plain": [
       "  group  total_view  purchased  conv_rate\n",
       "0     A       24343        955   3.923099\n",
       "1     B       24600       1139   4.630081"
      ]
     },
     "execution_count": 3,
     "metadata": {},
     "output_type": "execute_result"
    }
   ],
   "source": [
    "data"
   ]
  },
  {
   "cell_type": "markdown",
   "id": "f1220814",
   "metadata": {},
   "source": [
    "### Design of the experiment"
   ]
  },
  {
   "cell_type": "markdown",
   "id": "c681667a",
   "metadata": {},
   "source": [
    "**Research Question** - Does adding the food and drink category as a banner at the top of our website  \n",
    "increase the conversion rate among website visitors?\n",
    "\n",
    "**Null Hypothesis** - Adding the food and drink category as a banner at the top of our website **Does not\n",
    "affect** the conversion rate among website visitors.\n",
    "\n",
    "**Target Sample Population** - Users purchased products from website from 25-01-2023 to 06-02-2023\n",
    "\n",
    "**Group A - Control Group** - Users cannot see the banner.<br> \n",
    "**Group B- Treatment Group** - USers can see the banner.\n",
    "\n",
    "### Assumptions:\n",
    "\n",
    "**Distribution** - z <br> \n",
    "**Significance level** - 5% <br> \n",
    "**Sample** - Unpooled Proportion\n",
    "\n",
    "**n1** - Total Number of users in Group A (i.e., Total_view)<br>\n",
    "**n2** - total Number of users in Group B (i.e., Total_view)<br>\n",
    "**p1** - Conversion rate of Group A <br>\n",
    "**p2** - Conversion rate of Group B \n"
   ]
  },
  {
   "cell_type": "code",
   "execution_count": 4,
   "id": "dc198b71",
   "metadata": {},
   "outputs": [],
   "source": [
    "n1 = data.total_view[0]\n",
    "n2 = data.total_view[1]\n",
    "p1 = data.conv_rate[0]/100\n",
    "p2 = data.conv_rate[1]/100"
   ]
  },
  {
   "cell_type": "markdown",
   "id": "3512fe81",
   "metadata": {},
   "source": [
    "### 95% Confidence Interval of Differences between group"
   ]
  },
  {
   "cell_type": "code",
   "execution_count": 5,
   "id": "f4c1b856",
   "metadata": {},
   "outputs": [],
   "source": [
    "# significance level\n",
    "\n",
    "alpha = 0.05\n",
    "\n",
    "# z critical value\n",
    "\n",
    "z_crit = 1.96\n",
    "\n",
    "# Unpooled standard Error and Margin of Error \n",
    "\n",
    "Se =  np.sqrt(p1*(1-p1)/n1 + p2*(1-p2)/n2)\n",
    "\n",
    "Me = z_crit * Se"
   ]
  },
  {
   "cell_type": "markdown",
   "id": "90df73cb",
   "metadata": {},
   "source": [
    "####  95% conifidence interval "
   ]
  },
  {
   "cell_type": "code",
   "execution_count": 6,
   "id": "8f327108",
   "metadata": {},
   "outputs": [],
   "source": [
    "# Difference between the two groups\n",
    "diff = p2 - p1\n",
    "\n",
    "# CE =  (p2 - p1) +- margin of error of A\n",
    "\n",
    "lower = diff - Me\n",
    "Upper = diff + Me\n",
    "\n",
    "\n",
    "#Confidence interval\n",
    "\n",
    "CI = [round(lower,4), round(Upper,4)]"
   ]
  },
  {
   "cell_type": "markdown",
   "id": "065d5048",
   "metadata": {},
   "source": [
    "### P - value Calculation"
   ]
  },
  {
   "cell_type": "code",
   "execution_count": 7,
   "id": "ce0d7b85",
   "metadata": {},
   "outputs": [
    {
     "name": "stdout",
     "output_type": "stream",
     "text": [
      "Statistically Significance\n"
     ]
    }
   ],
   "source": [
    "# z statistic\n",
    "\n",
    "z_test = (p2-p1)/Se\n",
    "\n",
    "# p value for two sided z-test\n",
    "\n",
    "p_value = round(2*(1-norm.cdf(z_test)),5)\n",
    "\n",
    "# Check for significance\n",
    "\n",
    "if p_value < alpha/2:\n",
    "    print('Statistically Significance')\n",
    "else:\n",
    "    print('Not Statistically Significance')"
   ]
  },
  {
   "cell_type": "code",
   "execution_count": 8,
   "id": "07bbb403",
   "metadata": {},
   "outputs": [
    {
     "name": "stdout",
     "output_type": "stream",
     "text": [
      "Null Hypothesis: P2-p1 = 0\n",
      "Base line conversion: p2-p1 = 0.0071\n",
      "95% Confidence interval for conversion differnce = [0.0035, 0.0107]\n",
      "Two tail significance level alpha/2 = 0.0025\n",
      "P - value = 0.00011\n"
     ]
    }
   ],
   "source": [
    "print('Null Hypothesis: P2-p1 = 0')\n",
    "print(f'Base line conversion: p2-p1 = {round(diff,4)}')\n",
    "print(f'95% Confidence interval for conversion differnce = {CI}')\n",
    "print(\"Two tail significance level alpha/2 = 0.0025\")\n",
    "print(f'P - value = {p_value}')"
   ]
  },
  {
   "cell_type": "markdown",
   "id": "0b6f09f9",
   "metadata": {},
   "source": [
    "**Conclusion:**\n",
    "    \n",
    "The calculated confidence interval (CI: 0.0035-0.0107) does not include 0, which suggests that there is a statistically significant difference between the conversion rates of the two groups. <br>\n",
    "\n",
    "The p-value of 0.00011 is less than the significance level of 0.0025, which also indicates that we can reject the null hypothesis and conclude that there is a statistically significant difference between the two groups.<br>\n",
    "\n",
    "Therefore, we can conclude that the treatment (Group B) has a statistically significant higher conversion rate than the control (Group A). In other words, we can say that the change made in Group B has a positive impact on the conversion rate."
   ]
  },
  {
   "cell_type": "code",
   "execution_count": null,
   "id": "13e3b631",
   "metadata": {},
   "outputs": [],
   "source": []
  },
  {
   "cell_type": "markdown",
   "id": "857cdeea",
   "metadata": {},
   "source": [
    "## Visualization "
   ]
  },
  {
   "cell_type": "code",
   "execution_count": 9,
   "id": "8021fbe8",
   "metadata": {},
   "outputs": [
    {
     "data": {
      "text/plain": [
       "<matplotlib.legend.Legend at 0x26edb1ade50>"
      ]
     },
     "execution_count": 9,
     "metadata": {},
     "output_type": "execute_result"
    },
    {
     "data": {
      "image/png": "[encoded data removed]",
      "text/plain": [
       "<Figure size 576x576 with 1 Axes>"
      ]
     },
     "metadata": {
      "needs_background": "light"
     },
     "output_type": "display_data"
    }
   ],
   "source": [
    "# Set the x-axis labels\n",
    "labels = ['Website with Banner', 'Website without Banner', 'Difference in Conversion Rate']\n",
    "\n",
    "# Create a figure\n",
    "fig, ax = plt.subplots(figsize=(8,8))\n",
    "\n",
    "# Create bar chart for each group\n",
    "ax.bar(labels[0], p2 *100 ,label='Group B',width = 0.5)\n",
    "ax.bar(labels[1], p1*100 ,label='Group A',width = 0.5)\n",
    "plt.axhline(y=4, color='red', linestyle='--')\n",
    "\n",
    "# Set the y-axis label\n",
    "ax.set_ylabel('Conversion Rate in Percentage \\'%\\'')\n",
    "\n",
    "# Add title and legend\n",
    "ax.set_title('Conversion Rate of groups')\n",
    "ax.legend()\n"
   ]
  },
  {
   "cell_type": "code",
   "execution_count": 10,
   "id": "7b06870e",
   "metadata": {},
   "outputs": [
    {
     "data": {
      "text/plain": [
       "Text(0.5, 1.0, 'A/B test result')"
      ]
     },
     "execution_count": 10,
     "metadata": {},
     "output_type": "execute_result"
    },
    {
     "data": {
      "image/png": "[encoded data removed]",
      "text/plain": [
       "<Figure size 216x576 with 1 Axes>"
      ]
     },
     "metadata": {
      "needs_background": "light"
     },
     "output_type": "display_data"
    }
   ],
   "source": [
    "fig, ax = plt.subplots(figsize=(3,8))\n",
    "ax.bar(labels[2], diff*100 ,label='Difference')\n",
    "ax.errorbar(labels[2], diff*100, yerr=np.array(CI).reshape(2,1) *100, fmt='wo', ecolor='r', capsize=5)\n",
    "ax.set_ylabel('Conversion Rate in Percentage \\'%\\'')\n",
    "ax.set_title('A/B test result')"
   ]
  },
  {
   "cell_type": "code",
   "execution_count": null,
   "id": "460e3484",
   "metadata": {},
   "outputs": [],
   "source": []
  }
 ],
 "metadata": {
  "kernelspec": {
   "display_name": "Python 3 (ipykernel)",
   "language": "python",
   "name": "python3"
  },
  "language_info": {
   "codemirror_mode": {
    "name": "ipython",
    "version": 3
   },
   "file_extension": ".py",
   "mimetype": "text/x-python",
   "name": "python",
   "nbconvert_exporter": "python",
   "pygments_lexer": "ipython3",
   "version": "3.9.12"
  }
 },
 "nbformat": 4,
 "nbformat_minor": 5
}
